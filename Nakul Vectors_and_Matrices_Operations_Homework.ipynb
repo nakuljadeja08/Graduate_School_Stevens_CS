{
 "cells": [
  {
   "cell_type": "markdown",
   "id": "reverse-interview",
   "metadata": {
    "id": "reverse-interview"
   },
   "source": [
    "# 1. Vectors Operations"
   ]
  },
  {
   "cell_type": "markdown",
   "id": "parental-conclusion",
   "metadata": {
    "id": "parental-conclusion"
   },
   "source": [
    "In the first part of this homework we will use Python and `NumPy` functions to perform main vector operations:\n",
    "- scalar multiplication\n",
    "- sum of vectors\n",
    "- dot product"
   ]
  },
  {
   "cell_type": "markdown",
   "id": "advance-butler",
   "metadata": {
    "id": "advance-butler"
   },
   "source": [
    "## Packages\n",
    "\n",
    "Import the `NumPy` package to access its functions."
   ]
  },
  {
   "cell_type": "code",
   "execution_count": 1,
   "id": "promotional-buffer",
   "metadata": {
    "id": "promotional-buffer"
   },
   "outputs": [],
   "source": [
    "import numpy as np"
   ]
  },
  {
   "cell_type": "markdown",
   "id": "severe-studio",
   "metadata": {
    "id": "severe-studio"
   },
   "source": [
    "<a name='1.1'></a>\n",
    "## 1.1 - Scalar Multiplication\n",
    "\n",
    "Write a function named `ScalarMultiplication` that gets as an input a numpy array $v$ representing a vector and a scalar $\\alpha$ and returns the $\\alpha v$. Hint: In Python you can perform this operation with a $*$ operator. Replace `None` with your solution."
   ]
  },
  {
   "cell_type": "code",
   "execution_count": 3,
   "id": "grnGTviMGxWG",
   "metadata": {
    "id": "grnGTviMGxWG"
   },
   "outputs": [],
   "source": [
    "def ScalarMultiplication(v, a):\n",
    "  return a * v"
   ]
  },
  {
   "cell_type": "markdown",
   "id": "q5nHjp2dHaJR",
   "metadata": {
    "id": "q5nHjp2dHaJR"
   },
   "source": [
    "<a name='1.2'></a>\n",
    "## 1.2 - Vectors Addition with Loops\n",
    "\n",
    "Write a function named `AddLoop` that gets as an input two numpy arrays $v$ and $w$ representing two vectors and returns the $v + w$ using a for loop. For simplicity, assume the vectors $v$ and $w$ have the same length. Replace `None` with your solution."
   ]
  },
  {
   "cell_type": "code",
   "execution_count": 4,
   "id": "Rto1iflsH1XX",
   "metadata": {
    "id": "Rto1iflsH1XX"
   },
   "outputs": [],
   "source": [
    "def AddLoop(v,w):\n",
    "  result = []\n",
    "  for i in range(len(v)):\n",
    "    result.append(v[i] + w[i])\n",
    "  return np.array(result)"
   ]
  },
  {
   "cell_type": "markdown",
   "id": "5X9Ty2L-H8Yf",
   "metadata": {
    "id": "5X9Ty2L-H8Yf"
   },
   "source": [
    "<a name='1.3'></a>\n",
    "## 1.3 - Vectors Addition with `Numpy` package\n",
    "\n",
    "Write a function named `Add` that gets as an input two numpy arrays $v$ and $w$ representing two vectors and returns the $v + w$ using the `Numpy` package. For simplicity, assume the vectors $v$ and $w$ have the same length. Replace `None` with your solution."
   ]
  },
  {
   "cell_type": "code",
   "execution_count": 5,
   "id": "eiojULUzIHRp",
   "metadata": {
    "id": "eiojULUzIHRp"
   },
   "outputs": [],
   "source": [
    "def Add(v,w):\n",
    "  return np.add(v,w)"
   ]
  },
  {
   "cell_type": "markdown",
   "id": "SbnwVLePILn3",
   "metadata": {
    "id": "SbnwVLePILn3"
   },
   "source": [
    "<a name='1.4'></a>\n",
    "## 1.4 - Dot Product with Loops\n",
    "\n",
    "Write a function named `DotLoop` that gets as an input two numpy arrays $v$ and $w$ representing two vectors and returns the dot product between $v$ and $w$ using a for loop. For simplicity, assume the vectors $v$ and $w$ have the same length. Replace `None` with your solution."
   ]
  },
  {
   "cell_type": "code",
   "execution_count": 6,
   "id": "CN-lHn4HIcq-",
   "metadata": {
    "id": "CN-lHn4HIcq-"
   },
   "outputs": [],
   "source": [
    "def DotLoop(v,w):\n",
    "  result = []\n",
    "  for i in range(len(v)):\n",
    "    result=result + v[i] * w[i]\n",
    "  return result"
   ]
  },
  {
   "cell_type": "markdown",
   "id": "96WQV4qHIfu-",
   "metadata": {
    "id": "96WQV4qHIfu-"
   },
   "source": [
    "<a name='1.5'></a>\n",
    "## 1.5 - Dot Product\n",
    "\n",
    "Write a function named `Dot` that gets as an input two numpy arrays $v$ and $w$ representing two vectors and returns the  dot product between $v$ and $w$ using the `Numpy` package. For simplicity, assume the vectors $v$ and $w$ have the same length. Replace `None` with your solution."
   ]
  },
  {
   "cell_type": "code",
   "execution_count": 7,
   "id": "ITjaJvJZIrO6",
   "metadata": {
    "id": "ITjaJvJZIrO6"
   },
   "outputs": [],
   "source": [
    "def Dot(v,w):\n",
    "  return np.dot(v,w)"
   ]
  },
  {
   "cell_type": "markdown",
   "id": "8xNmJyZuJTlW",
   "metadata": {
    "id": "8xNmJyZuJTlW"
   },
   "source": [
    "# 2. Matrix Operations"
   ]
  },
  {
   "cell_type": "markdown",
   "id": "fkZw8sTJJYAC",
   "metadata": {
    "id": "fkZw8sTJJYAC"
   },
   "source": [
    "In the second part of this homework we will use Python and NumPy functions to perform main matrix operations:\n",
    "\n",
    "- sum of matrices\n",
    "- matrix multiplication"
   ]
  },
  {
   "cell_type": "markdown",
   "id": "Zrs7cjK-9p08",
   "metadata": {
    "id": "Zrs7cjK-9p08"
   },
   "source": [
    "### 2.1 Addition\n",
    "\n",
    "Write a function named `AddMatrices` that gets as an input two numpy arrays $A$ and $B$ representing two matrices and returns the sum of $A$ and $B$. Replace `None` with your solution."
   ]
  },
  {
   "cell_type": "code",
   "execution_count": 8,
   "id": "g6zbdMkw-S2B",
   "metadata": {
    "id": "g6zbdMkw-S2B"
   },
   "outputs": [],
   "source": [
    "def AddMatrices(A,B):\n",
    "  return np.add(A,B)"
   ]
  },
  {
   "cell_type": "markdown",
   "id": "ZNlo-WJo-eV1",
   "metadata": {
    "id": "ZNlo-WJo-eV1"
   },
   "source": [
    "### 2.2 Matrix Multiplication with Loops\n",
    "\n",
    "Write a function named `MultiplyMatricesLoop` that gets as an input two numpy arrays $A$ and $B$ representing two matrices and returns the product of $A$ and $B$ using for or while loops. Make sure to check whether this operation can be performed. Return $-1$ if we cannot multiply $A$ with $B$. Replace `None` with your solution."
   ]
  },
  {
   "cell_type": "code",
   "execution_count": 9,
   "id": "jaIWAT_j-w1u",
   "metadata": {
    "id": "jaIWAT_j-w1u"
   },
   "outputs": [],
   "source": [
    "def MultiplyMatricesLoop(A,B):\n",
    "  if A.shape[1] != B.shape[0]:\n",
    "    return -1\n",
    "  #initializing resultant matrix with zeros to avoid garbage values\n",
    "  result = np.zeros((A.shape[0], B.shape[1]))\n",
    "  for i in range(A.shape[0]):\n",
    "    for j in range(B.shape[1]):\n",
    "      s=0\n",
    "      for k in range(A.shape[1]):\n",
    "        s += A[i][k] * B[k][j]\n",
    "      result[i][j] = s\n",
    "  return result\n"
   ]
  },
  {
   "cell_type": "markdown",
   "id": "GeSwt5GrlCDm",
   "metadata": {
    "id": "GeSwt5GrlCDm"
   },
   "source": [
    "### 2.2 Matrix Multiplication\n",
    "\n",
    "Write a function named `MultiplyMatrices` that gets as an input two numpy arrays $A$ and $B$ representing two matrices and returns the product of $A$ and $B$ using the `Numpy` package. Make sure to check whether this operation can be performed. Return $-1$ if we cannot multiply $A$ with $B$. Replace `None` with your solution."
   ]
  },
  {
   "cell_type": "code",
   "execution_count": 11,
   "id": "4bPyhtyllRQf",
   "metadata": {
    "id": "4bPyhtyllRQf"
   },
   "outputs": [],
   "source": [
    "def MultiplyMatrices(A,B):\n",
    "  if A.shape[1] != B.shape[0]:\n",
    "    return -1\n",
    "  return np.dot(A,B)"
   ]
  }
 ],
 "metadata": {
  "colab": {
   "provenance": []
  },
  "kernelspec": {
   "display_name": "Python 3",
   "language": "python",
   "name": "python3"
  },
  "language_info": {
   "codemirror_mode": {
    "name": "ipython",
    "version": 3
   },
   "file_extension": ".py",
   "mimetype": "text/x-python",
   "name": "python",
   "nbconvert_exporter": "python",
   "pygments_lexer": "ipython3",
   "version": "3.11.9"
  }
 },
 "nbformat": 4,
 "nbformat_minor": 5
}
