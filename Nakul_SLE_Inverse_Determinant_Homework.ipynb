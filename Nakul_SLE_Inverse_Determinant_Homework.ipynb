{
 "cells": [
  {
   "cell_type": "markdown",
   "metadata": {
    "id": "7d4kO_YT0oDD"
   },
   "source": [
    "# System of Linear Equations with a Unique Solution, Matrix Inverse and the Determinant"
   ]
  },
  {
   "cell_type": "markdown",
   "metadata": {
    "id": "bJl8_1-B00g3"
   },
   "source": [
    "The goal of this homework is to learn how to solve systems of linear equations and to be able to compute the determinant and the inverse of an invertible matrix.\n",
    "\n",
    "**After this assignment you will be able to:**\n",
    "- Use `NumPy` package to set up the arrays corresponding to the system of linear equations.\n",
    "- Evaluate the determinant of a matrix and find the solution of the system with `NumPy` linear algebra package.\n",
    "- Perform row reduction to bring matrix into row echelon form\n",
    "- Find the solution for the system of linear equations using row reduced approach.\n",
    "- Compute the inverse of a matrix with `Numpy` linear algebra package and using row reduction approach."
   ]
  },
  {
   "cell_type": "markdown",
   "metadata": {
    "id": "al1PcVSW2LSU"
   },
   "source": [
    "## 1. Solving System of Linear Equations\n",
    "\n",
    "### 1.1 Row Reduction approach"
   ]
  },
  {
   "cell_type": "markdown",
   "metadata": {
    "id": "YKrWvcu-2j5Y"
   },
   "source": [
    "Solve the following system of linear equations using the reduction method (as mentioned in the week 2 lab):\n",
    "$$\\begin{cases}\n",
    "x + 2y - 3z + 4w = 12, \\\\ 2x + 2y - 2z + 3w = 10, \\\\ y + z = -1, \\\\ x - y + z - 2w = -4 \\end{cases}\\tag{1}$$\n"
   ]
  },
  {
   "cell_type": "code",
   "execution_count": 99,
   "metadata": {},
   "outputs": [],
   "source": [
    "import numpy as np"
   ]
  },
  {
   "cell_type": "code",
   "execution_count": 100,
   "metadata": {
    "id": "DrkFDTJc4GNP"
   },
   "outputs": [
    {
     "name": "stdout",
     "output_type": "stream",
     "text": [
      "Matrix A:\n",
      "[[ 1.  2. -3.  4.]\n",
      " [ 2.  2. -2.  3.]\n",
      " [ 0.  1.  1.  0.]\n",
      " [ 1. -1.  1. -2.]]\n",
      "\n",
      "Array b:\n",
      "[12. 10. -1. -4.]\n"
     ]
    }
   ],
   "source": [
    "A = np.array([\n",
    "        [1, 2, -3, 4],\n",
    "        [2, 2, -2, 3],\n",
    "        [0, 1, 1, 0],\n",
    "        [1, -1, 1, -2]\n",
    "    ], dtype=np.dtype(float))\n",
    "\n",
    "b = np.array([12, 10, -1, -4], dtype=np.dtype(float))\n",
    "\n",
    "print(\"Matrix A:\")\n",
    "print(A)\n",
    "print(\"\\nArray b:\")\n",
    "print(b)"
   ]
  },
  {
   "cell_type": "code",
   "execution_count": 101,
   "metadata": {},
   "outputs": [
    {
     "name": "stdout",
     "output_type": "stream",
     "text": [
      "Shape of A: (4, 4)\n",
      "Shape of b: (4,)\n"
     ]
    }
   ],
   "source": [
    "#CHECKING THE DIMENSIONS OF A AND b\n",
    "print(f\"Shape of A: {np.shape(A)}\")\n",
    "print(f\"Shape of b: {np.shape(b)}\")"
   ]
  },
  {
   "cell_type": "code",
   "execution_count": 102,
   "metadata": {},
   "outputs": [],
   "source": [
    "#PREPARATION FOR ROW-REDUCTION FORM"
   ]
  },
  {
   "cell_type": "code",
   "execution_count": 103,
   "metadata": {},
   "outputs": [
    {
     "name": "stdout",
     "output_type": "stream",
     "text": [
      "[[ 1.  2. -3.  4. 12.]\n",
      " [ 2.  2. -2.  3. 10.]\n",
      " [ 0.  1.  1.  0. -1.]\n",
      " [ 1. -1.  1. -2. -4.]]\n"
     ]
    }
   ],
   "source": [
    "#FIRST WE NEED TO CREATE THE AUGMENTED MATRIX\n",
    "A_system = np.hstack((A, b.reshape((4, 1))))\n",
    "print(A_system)"
   ]
  },
  {
   "cell_type": "code",
   "execution_count": 104,
   "metadata": {},
   "outputs": [],
   "source": [
    "#CREATING ELEMENATRY ROW OPERATIONS\n",
    "#row = scalar * row\n",
    "def MultiplyRow(M, row, scalar):\n",
    "    M_new = M.copy()\n",
    "    M_new[row] = M_new[row] * scalar\n",
    "    return M_new"
   ]
  },
  {
   "cell_type": "code",
   "execution_count": 105,
   "metadata": {},
   "outputs": [],
   "source": [
    "# row_num_2 = scalar * row_num_1 + row_num_2,\n",
    "def AddRows(M, row_num_1, row_num_2, scalar):\n",
    "    M_new = M.copy()\n",
    "    M_new[row_num_2] = scalar * M_new[row_num_1] + M_new[row_num_2]\n",
    "    return M_new"
   ]
  },
  {
   "cell_type": "code",
   "execution_count": 106,
   "metadata": {},
   "outputs": [],
   "source": [
    "# exchange row_num_1 and row_num_2 of the matrix M\n",
    "def ExchangeRows(M, row_num_1, row_num_2):\n",
    "    M_new = M.copy()\n",
    "    M_new[[row_num_1, row_num_2]] = M_new[[row_num_2, row_num_1]]\n",
    "    return M_new"
   ]
  },
  {
   "cell_type": "code",
   "execution_count": 107,
   "metadata": {},
   "outputs": [],
   "source": [
    "# ROW- ECHELON FORM"
   ]
  },
  {
   "cell_type": "code",
   "execution_count": 108,
   "metadata": {},
   "outputs": [
    {
     "name": "stdout",
     "output_type": "stream",
     "text": [
      "[[  1.   2.  -3.   4.  12.]\n",
      " [  0.  -2.   4.  -5. -14.]\n",
      " [  0.   1.   1.   0.  -1.]\n",
      " [  0.  -3.   4.  -6. -16.]]\n"
     ]
    }
   ],
   "source": [
    "# R2 -> R2 - 2*R1\n",
    "# R4 -> R4 - R1\n",
    "A_ref = AddRows(A_system,0,1, -2)\n",
    "A_ref = AddRows(A_ref,0,3, -1)\n",
    "print(A_ref)"
   ]
  },
  {
   "cell_type": "code",
   "execution_count": 109,
   "metadata": {},
   "outputs": [
    {
     "name": "stdout",
     "output_type": "stream",
     "text": [
      "[[  1.   2.  -3.   4.  12.]\n",
      " [  0.   1.   1.   0.  -1.]\n",
      " [  0.  -2.   4.  -5. -14.]\n",
      " [  0.  -3.   4.  -6. -16.]]\n"
     ]
    }
   ],
   "source": [
    "# Swap R2 and R3\n",
    "A_ref = ExchangeRows(A_ref,1,2)\n",
    "print(A_ref)"
   ]
  },
  {
   "cell_type": "code",
   "execution_count": 110,
   "metadata": {},
   "outputs": [
    {
     "name": "stdout",
     "output_type": "stream",
     "text": [
      "[[  1.   2.  -3.   4.  12.]\n",
      " [  0.   1.   1.   0.  -1.]\n",
      " [  0.   0.   6.  -5. -16.]\n",
      " [  0.   0.   7.  -6. -19.]]\n"
     ]
    }
   ],
   "source": [
    "# R3 -> R3 + 2*R2\n",
    "# R4 -> R4 + 3R2\n",
    "A_ref = AddRows(A_ref,1,2, 2)\n",
    "A_ref = AddRows(A_ref,1,3, 3)\n",
    "print(A_ref)"
   ]
  },
  {
   "cell_type": "code",
   "execution_count": 111,
   "metadata": {},
   "outputs": [
    {
     "name": "stdout",
     "output_type": "stream",
     "text": [
      "[[  1.   2.  -3.   4.  12.]\n",
      " [  0.   1.   1.   0.  -1.]\n",
      " [  0.   0.   6.  -5. -16.]\n",
      " [ -0.  -0.  -0.   1.   2.]]\n"
     ]
    }
   ],
   "source": [
    "# R4 -> R4 - 7/6*R3\n",
    "# R4 -> 6 * R4\n",
    "A_ref = AddRows(A_ref,2,3, -7/6)\n",
    "A_ref = MultiplyRow(A_ref,3,-6) \n",
    "print(A_ref)"
   ]
  },
  {
   "cell_type": "code",
   "execution_count": 112,
   "metadata": {},
   "outputs": [
    {
     "name": "stdout",
     "output_type": "stream",
     "text": [
      "The solution to the system of equations is x=1.0, y=0.0, z=-1.0, w=2\n"
     ]
    }
   ],
   "source": [
    "# from the above row echelon form we can dervive the following results:-\n",
    "w=2\n",
    "z= (A_ref[2,4]-A_ref[2,3]*w)/A_ref[2,2]\n",
    "y = (A_ref[1][4] - A_ref[1][2]*z) / A_ref[1][1] \n",
    "x = (A_ref[0][4] - A_ref[0][1]*y - A_ref[0][2]*z - A_ref[0][3]*w) / A_ref[0][0]\n",
    "print(f\"The solution to the system of equations is x={x}, y={y}, z={z}, w={w}\")"
   ]
  },
  {
   "cell_type": "markdown",
   "metadata": {
    "id": "Yq8zCJ024YSK"
   },
   "source": [
    "### 1.2 `Numpy` linear algebra package\n",
    "Solve the above system of linear equations using the `numpy.linalg` package."
   ]
  },
  {
   "cell_type": "code",
   "execution_count": 113,
   "metadata": {
    "id": "zIgQXSG84uSq"
   },
   "outputs": [
    {
     "name": "stdout",
     "output_type": "stream",
     "text": [
      "Solution: [ 1. -0. -1.  2.]\n"
     ]
    }
   ],
   "source": [
    "s = np.linalg.solve(A, b)\n",
    "print(f\"Solution: {s}\")"
   ]
  },
  {
   "cell_type": "markdown",
   "metadata": {
    "id": "a3zNZvUI47--"
   },
   "source": [
    "## 2. Determinant\n",
    "### 2.1 Compute the determinant of matrix $A$ using the `numpy.linalg` package:\n",
    "\n",
    "$$ \\begin{align}\n",
    "  \\textbf{A}  = \\begin{bmatrix}\n",
    "1 & 0 & -2\\\\\n",
    "3 & 1 & -2\\\\\n",
    "-5 & -1 & 9\n",
    "\\end{bmatrix}\n",
    "  \\end{align}\n",
    "  $$"
   ]
  },
  {
   "cell_type": "code",
   "execution_count": 114,
   "metadata": {
    "id": "8UE20mGu5Cy4"
   },
   "outputs": [
    {
     "name": "stdout",
     "output_type": "stream",
     "text": [
      "Determinant of A: 3.000000000000001\n"
     ]
    }
   ],
   "source": [
    "A = np.array([\n",
    "        [1, 0, -2,],\n",
    "        [3, 1, -2,],\n",
    "        [-5, -1, 9,]\n",
    "    ], dtype=np.dtype(float))\n",
    "\n",
    "det = np.linalg.det(A)\n",
    "print(f\"Determinant of A: {det}\")"
   ]
  },
  {
   "cell_type": "markdown",
   "metadata": {
    "id": "AiwFmcw46fHm"
   },
   "source": [
    "### 2.2 Is the above matrix invertible? Why?"
   ]
  },
  {
   "cell_type": "markdown",
   "metadata": {
    "id": "YfkS_QNJ67kT"
   },
   "source": [
    "Answer here: Yes,the given matrix A is invertible by alegbra test as the determinant of the matrix in non-zero."
   ]
  },
  {
   "cell_type": "markdown",
   "metadata": {
    "id": "A_x3V2i16mWE"
   },
   "source": [
    "# 3. Matrix Inverse\n",
    "### 3.1 Compute the inverse of non-singular matrix $B$ using row reduction\n",
    "$$ \\begin{align}\n",
    "  \\textbf{B}  = \\begin{bmatrix}\n",
    "1 & 2 & 1\\\\\n",
    "4 & 4 & 5\\\\\n",
    "6 & 7 & 7\n",
    "\\end{bmatrix}\n",
    "  \\end{align}\n",
    "  $$"
   ]
  },
  {
   "cell_type": "code",
   "execution_count": 115,
   "metadata": {
    "id": "6H1rRYEs6y62"
   },
   "outputs": [
    {
     "name": "stdout",
     "output_type": "stream",
     "text": [
      "[[1. 2. 1.]\n",
      " [4. 4. 5.]\n",
      " [6. 7. 7.]]\n"
     ]
    }
   ],
   "source": [
    "B = np.array([\n",
    "        [1, 2, 1,],\n",
    "        [4, 4, 5],\n",
    "        [6, 7, 7,]\n",
    "    ], dtype=np.dtype(float))\n",
    "print(B)"
   ]
  },
  {
   "cell_type": "code",
   "execution_count": 116,
   "metadata": {},
   "outputs": [
    {
     "name": "stdout",
     "output_type": "stream",
     "text": [
      "[[1. 2. 1. 1. 0. 0.]\n",
      " [4. 4. 5. 0. 1. 0.]\n",
      " [6. 7. 7. 0. 0. 1.]]\n"
     ]
    }
   ],
   "source": [
    "#First we need to create the augmented matrix B | I where I is the identity matrix using the np.hstack and np.eye functions.\n",
    "B_system = np.hstack((B, np.eye(3))) \n",
    "print(B_system)"
   ]
  },
  {
   "cell_type": "code",
   "execution_count": 117,
   "metadata": {},
   "outputs": [],
   "source": [
    "# Now we apply row transformations to convert B to the identity matrix, and the identity matrix will transform into B's inverse."
   ]
  },
  {
   "cell_type": "code",
   "execution_count": 118,
   "metadata": {},
   "outputs": [
    {
     "name": "stdout",
     "output_type": "stream",
     "text": [
      "[[ 1.  2.  1.  1.  0.  0.]\n",
      " [ 0. -4.  1. -4.  1.  0.]\n",
      " [ 0. -5.  1. -6.  0.  1.]]\n"
     ]
    }
   ],
   "source": [
    "# R2 -> R2 - 4*R1\n",
    "# R3 -> R3 - 6*R1\n",
    "B_ref = AddRows(B_system,0,1, -4)\n",
    "B_ref = AddRows(B_ref,0,2, -6)\n",
    "print(B_ref)"
   ]
  },
  {
   "cell_type": "code",
   "execution_count": 119,
   "metadata": {},
   "outputs": [
    {
     "name": "stdout",
     "output_type": "stream",
     "text": [
      "[[ 1.    2.    1.    1.    0.    0.  ]\n",
      " [-0.    1.   -0.25  1.   -0.25 -0.  ]\n",
      " [ 0.   -5.    1.   -6.    0.    1.  ]]\n"
     ]
    }
   ],
   "source": [
    "# R2 -> R2/-4\n",
    "B_ref = MultiplyRow(B_ref,1,-1/4)\n",
    "print(B_ref)"
   ]
  },
  {
   "cell_type": "code",
   "execution_count": 120,
   "metadata": {},
   "outputs": [
    {
     "name": "stdout",
     "output_type": "stream",
     "text": [
      "[[ 1.    0.    1.5  -1.    0.5   0.  ]\n",
      " [-0.    1.   -0.25  1.   -0.25 -0.  ]\n",
      " [ 0.    0.   -0.25 -1.   -1.25  1.  ]]\n"
     ]
    }
   ],
   "source": [
    "# R1 -> R1 - 2*R2\n",
    "# R3 -> R3 + 5*R2\n",
    "B_ref = AddRows(B_ref,1,0, -2)\n",
    "B_ref = AddRows(B_ref,1,2, 5)\n",
    "print(B_ref)"
   ]
  },
  {
   "cell_type": "code",
   "execution_count": 121,
   "metadata": {},
   "outputs": [
    {
     "name": "stdout",
     "output_type": "stream",
     "text": [
      "[[ 1.    0.    1.5  -1.    0.5   0.  ]\n",
      " [-0.    1.   -0.25  1.   -0.25 -0.  ]\n",
      " [-0.   -0.    1.    4.    5.   -4.  ]]\n"
     ]
    }
   ],
   "source": [
    "# R3 -> R3/-0.25\n",
    "B_ref = MultiplyRow(B_ref,2,-1/0.25)\n",
    "print(B_ref)    "
   ]
  },
  {
   "cell_type": "code",
   "execution_count": 122,
   "metadata": {},
   "outputs": [
    {
     "name": "stdout",
     "output_type": "stream",
     "text": [
      "[[ 1.  0.  0. -7. -7.  6.]\n",
      " [-0.  1.  0.  2.  1. -1.]\n",
      " [-0. -0.  1.  4.  5. -4.]]\n"
     ]
    }
   ],
   "source": [
    "# R1 -> R1 - 1.5*R3\n",
    "# R2 -> R2 + 0.25*R3\n",
    "B_ref = AddRows(B_ref,2,0, -1.5)\n",
    "B_ref = AddRows(B_ref,2,1,0.25)\n",
    "print(B_ref)"
   ]
  },
  {
   "cell_type": "code",
   "execution_count": 124,
   "metadata": {},
   "outputs": [],
   "source": [
    "B_inv = B_ref[-3:, -3: ]"
   ]
  },
  {
   "cell_type": "code",
   "execution_count": 125,
   "metadata": {},
   "outputs": [
    {
     "name": "stdout",
     "output_type": "stream",
     "text": [
      "B's Inverse is:\n",
      "[[-7. -7.  6.]\n",
      " [ 2.  1. -1.]\n",
      " [ 4.  5. -4.]]\n"
     ]
    }
   ],
   "source": [
    "print(\"B's Inverse is:\")\n",
    "print(B_inv)"
   ]
  },
  {
   "cell_type": "markdown",
   "metadata": {
    "id": "5voXiito6zis"
   },
   "source": [
    "### 3.2 Compute the inverse matrix $B$ using the `numpy.linalg` package."
   ]
  },
  {
   "cell_type": "code",
   "execution_count": 123,
   "metadata": {
    "id": "BJ3MYBQ-64hV"
   },
   "outputs": [
    {
     "name": "stdout",
     "output_type": "stream",
     "text": [
      "[[-7. -7.  6.]\n",
      " [ 2.  1. -1.]\n",
      " [ 4.  5. -4.]]\n"
     ]
    }
   ],
   "source": [
    "#TODO\n",
    "print(np.linalg.inv(B))"
   ]
  }
 ],
 "metadata": {
  "colab": {
   "provenance": []
  },
  "kernelspec": {
   "display_name": "Python 3",
   "language": "python",
   "name": "python3"
  },
  "language_info": {
   "codemirror_mode": {
    "name": "ipython",
    "version": 3
   },
   "file_extension": ".py",
   "mimetype": "text/x-python",
   "name": "python",
   "nbconvert_exporter": "python",
   "pygments_lexer": "ipython3",
   "version": "3.11.9"
  }
 },
 "nbformat": 4,
 "nbformat_minor": 1
}
