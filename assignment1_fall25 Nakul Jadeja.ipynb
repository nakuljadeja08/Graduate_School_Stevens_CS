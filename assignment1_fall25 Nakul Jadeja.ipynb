{
  "cells": [
    {
      "cell_type": "markdown",
      "metadata": {
        "id": "kLDMbffhWsW8"
      },
      "source": [
        "# Overview\n",
        "\n",
        "This assignment is designed to help you better understand TF-IDF and BM25 algorithms through implementing them from scratch, and applying them on the large-scale community Question-Answering (cQA) [LinkSO](https://dl.acm.org/doi/10.1145/3283812.3283815) dataset. Upon the successful completion of this assignment, you will develop a clear picture on how TF-IDF and BM25 algorithms work.\n",
        "\n",
        "In this assignment, you will need to **run through** (i.e., running each code cell sequentially or `Runtime -> Run all`) the following pipeline:\n",
        "\n",
        "- Step 0: load the dataset into the current environment;\n",
        "- Step 1: import the libraries and helper functions;\n",
        "- Step 2: preprocess the dataset to get the required inputs for the TF-IDF and BM25 algorithms;\n",
        "- Step 3: implement the TF-IDF and BM25 algorithms.\n",
        "\n",
        "We have already implemented Steps 1 through 3 of the pipeline. Step 4 is left for you to implement; it has three questions worthy of 30, 30, and 40 points, respectively.\n",
        "\n",
        "**Suggestion**: Even though the code for Steps 1 through 3 has been provided, reading through all the code cells is **strongly recommended** before you start coding. Once you understand the provided code, the number of lines of code is unlikely to exceed 30.\n",
        "\n",
        "**Runtime**: If you implement everything correctly, you will finish running this entire notebook within 90 minutes under `Stevens-Net`. If you are experiencing noticeable delay, check your network condition.\n",
        "\n",
        "**Library requirement**: You are **NOT** allowed to use existing libraries that have already provided TF-IDF and BM25 implementations; other than these libraries, you are free to choose your preferred libraries.\n",
        "\n",
        "**Note on Colab**: If a cell contains only a function, you should still run it (so the function compiles in Colab), even though it doesn't print any outputs.\n",
        "\n"
      ]
    },
    {
      "cell_type": "markdown",
      "metadata": {
        "id": "bgvp42c9ehAL"
      },
      "source": [
        "## Step 0 - Load Dataset\n"
      ]
    },
    {
      "cell_type": "markdown",
      "metadata": {
        "id": "4P-DBxvlWs3W"
      },
      "source": [
        "Load and unzip the dataset from our remote GitHub repository that hosts the data and starter code.\n",
        "\n",
        "\n"
      ]
    },
    {
      "cell_type": "code",
      "source": [
        "! rm -rf cs589*"
      ],
      "metadata": {
        "id": "ZRasHAc9Zrc4"
      },
      "execution_count": 1,
      "outputs": []
    },
    {
      "cell_type": "code",
      "execution_count": 2,
      "metadata": {
        "id": "oNy0bWqpWrCa",
        "colab": {
          "base_uri": "https://localhost:8080/"
        },
        "outputId": "728d3f20-adc2-484a-af97-e0d8e389bd6c"
      },
      "outputs": [
        {
          "output_type": "stream",
          "name": "stdout",
          "text": [
            "Cloning into 'cs589assignment1'...\n",
            "remote: Enumerating objects: 23, done.\u001b[K\n",
            "remote: Counting objects: 100% (2/2), done.\u001b[K\n",
            "remote: Compressing objects: 100% (2/2), done.\u001b[K\n",
            "remote: Total 23 (delta 0), reused 2 (delta 0), pack-reused 21 (from 1)\u001b[K\n",
            "Receiving objects: 100% (23/23), 109.22 MiB | 43.55 MiB/s, done.\n",
            "Resolving deltas: 100% (3/3), done.\n",
            "Archive:  cs589assignment1/dataset/javascript.zip\n",
            "   creating: cs589assignment1/dataset/javascript/\n",
            "  inflating: cs589assignment1/dataset/javascript/javascript_test_qid.txt  \n",
            "  inflating: cs589assignment1/dataset/javascript/javascript_qid2all.txt  \n",
            "  inflating: cs589assignment1/dataset/javascript/javascript_cosidf.txt  \n",
            "\n",
            "Archive:  cs589assignment1/dataset/java.zip\n",
            "   creating: cs589assignment1/dataset/java/\n",
            "  inflating: cs589assignment1/dataset/java/java_test_qid.txt  \n",
            "  inflating: cs589assignment1/dataset/java/java_cosidf.txt  \n",
            "  inflating: cs589assignment1/dataset/java/java_qid2all.txt  \n",
            "\n",
            "Archive:  cs589assignment1/dataset/python.zip\n",
            "   creating: cs589assignment1/dataset/python/\n",
            "  inflating: cs589assignment1/dataset/python/python_test_qid.txt  \n",
            "  inflating: cs589assignment1/dataset/python/python_cosidf.txt  \n",
            "  inflating: cs589assignment1/dataset/python/python_qid2all.txt  \n",
            "\n",
            "3 archives were successfully processed.\n",
            "Reading package lists... Done\n",
            "Building dependency tree... Done\n",
            "Reading state information... Done\n",
            "tree is already the newest version (2.0.2-1).\n",
            "0 upgraded, 0 newly installed, 0 to remove and 38 not upgraded.\n"
          ]
        }
      ],
      "source": [
        "\n",
        "! git clone https://github.com/guanqun-yang/cs589assignment1.git\n",
        "! unzip \"cs589assignment1/dataset/*.zip\" -d cs589assignment1/dataset\n",
        "\n",
        "! apt-get install tree\n"
      ]
    },
    {
      "cell_type": "markdown",
      "metadata": {
        "id": "A_KOkCPIiP-_"
      },
      "source": [
        "## Step 1 - Import Libraries\n"
      ]
    },
    {
      "cell_type": "markdown",
      "metadata": {
        "id": "8uiXyxfoW0JD"
      },
      "source": [
        "Import the required libraries here. You could use additional libraries to help with your implementation."
      ]
    },
    {
      "cell_type": "code",
      "execution_count": 3,
      "metadata": {
        "id": "5GqfSBrBWgJg"
      },
      "outputs": [],
      "source": [
        "import re\n",
        "import os\n",
        "import copy\n",
        "import math\n",
        "import random\n",
        "import string\n",
        "import pathlib\n",
        "import itertools\n",
        "\n",
        "import numpy as np\n",
        "import pandas as pd\n",
        "\n",
        "from tqdm import tqdm\n",
        "from collections import Counter, defaultdict\n",
        "from sklearn.feature_extraction.text import CountVectorizer\n",
        "\n",
        "from cs589assignment1.utils.common import save_pickle_file, load_pickle_file, load_text_file\n",
        "\n",
        "base_path = pathlib.Path(\"cs589assignment1/dataset/\")\n",
        "tqdm.pandas()"
      ]
    },
    {
      "cell_type": "code",
      "execution_count": 4,
      "metadata": {
        "id": "dIey_8x0iTM0"
      },
      "outputs": [],
      "source": [
        "def split_text(text):\n",
        "    return text.split()\n",
        "\n",
        "\n",
        "def load_qids(lang=\"java\"):\n",
        "    return [qid.strip(string.whitespace) for qid in load_text_file(base_path / pathlib.Path(f\"{lang}/{lang}_test_qid.txt\"))]\n",
        "\n",
        "\n",
        "def load_qid_dataframe(lang=\"java\"):\n",
        "    qid_dataframe = pd.read_csv(base_path / pathlib.Path(f\"{lang}/{lang}_cosidf.txt\"),\n",
        "                                sep=\"\\t\",\n",
        "                                usecols=[\"qid1\", \"qid2\", \"label\"],\n",
        "                                dtype={\"qid1\": str, \"qid2\": str, \"label\": int})\n",
        "    return qid_dataframe\n",
        "\n",
        "\n",
        "def load_corpus(lang=\"java\", verbose=False):\n",
        "    lines = load_text_file(base_path / pathlib.Path(f\"{lang}/{lang}_qid2all.txt\"))\n",
        "\n",
        "    record_list = list()\n",
        "    for line in tqdm(lines, disable=not verbose):\n",
        "        record_list.append(\n",
        "            {name: text.strip(string.whitespace) for name, text in zip([\"qid\", \"title\", \"question\", \"answer\"], line.split(\"\\t\"))}\n",
        "        )\n",
        "\n",
        "    corpus_dataframe = pd.DataFrame(record_list)\n",
        "\n",
        "    return corpus_dataframe"
      ]
    },
    {
      "cell_type": "code",
      "execution_count": 5,
      "metadata": {
        "colab": {
          "base_uri": "https://localhost:8080/"
        },
        "id": "d4rylui-wcM6",
        "outputId": "4a7940c6-a4ac-457f-b357-776dc681de12"
      },
      "outputs": [
        {
          "output_type": "stream",
          "name": "stderr",
          "text": [
            "100%|██████████| 159263/159263 [00:00<00:00, 246884.25it/s]\n"
          ]
        },
        {
          "output_type": "stream",
          "name": "stdout",
          "text": [
            "        qid                                     title  \\\n",
            "0  31424546   eclipse mars starts exit code using jdk   \n",
            "1  31457289  efficient method updating observablelist   \n",
            "2  16777228                          set title jtable   \n",
            "3  27262998                  multiple websockets java   \n",
            "4  46137348      find runtime error nzec java program   \n",
            "\n",
            "                                            question  \\\n",
            "0  plan moving eclipse mars recently installed bi...   \n",
            "1  setup mysql database data makeshift server bui...   \n",
            "2  newbie java wanted set table header jtable tak...   \n",
            "3  deprecated ok opening connection specific port...   \n",
            "4  find runtime error nzec java program program r...   \n",
            "\n",
            "                                              answer  \n",
            "0  jdk bit download windows x version point vm mi...  \n",
            "1  need would work keep list instance serverlist ...  \n",
            "2  define variable containing column names must i...  \n",
            "3  trying achieve multiple function listen server...  \n",
            "4  try test code input like probably shall realiz...  \n"
          ]
        }
      ],
      "source": [
        "# take a look at the corpus\n",
        "pd.set_option(\"display.max_columns\", 10)\n",
        "\n",
        "java_corpus_dataframe = load_corpus(lang=\"java\", verbose=True)\n",
        "print(java_corpus_dataframe.head())"
      ]
    },
    {
      "cell_type": "markdown",
      "metadata": {
        "id": "ruBPtuUEjMpY"
      },
      "source": [
        "## Step 2 - Data Preprocessing"
      ]
    },
    {
      "cell_type": "markdown",
      "metadata": {
        "id": "jalvAG2AnNlE"
      },
      "source": [
        "\n",
        "\n",
        "The following cell computes the term frequency (TF) for each word in each component in each StackOverflow question (indexed by the question ID `qid`)."
      ]
    },
    {
      "cell_type": "code",
      "execution_count": 6,
      "metadata": {
        "id": "1A8rjYW5PZUT"
      },
      "outputs": [],
      "source": [
        "def get_corpus_tf_dict(corpus_dataframe):\n",
        "    \"\"\" Input: corpus_dataframe, e.g.,\n",
        "\n",
        "         qid         title                 question          answer\n",
        " 0  31424546   eclipse mars   eclipse moving eclipse    jdk download\n",
        "\n",
        "        Output: corpus_tf_dict, the term frequency for each word in each component of each question, e.g.,\n",
        "        {'31424546': {'title': {'eclipse': 1, 'mars': 1},\n",
        "                      'question': {'moving': 1, 'eclipse': 2},\n",
        "                      'answer': {'jdk': 1, 'download': 1}}}\n",
        "    \"\"\"\n",
        "    cnt_dataframe = copy.deepcopy(corpus_dataframe)\n",
        "    for c in [\"title\", \"question\", \"answer\"]:\n",
        "        cnt_dataframe[c] = cnt_dataframe[c].progress_apply(lambda x: Counter(split_text(x)))\n",
        "\n",
        "    corpus_tf_dict = cnt_dataframe.set_index(\"qid\").to_dict(\"index\")\n",
        "\n",
        "    return corpus_tf_dict"
      ]
    },
    {
      "cell_type": "markdown",
      "metadata": {
        "id": "tNmHc7CWPXC9"
      },
      "source": [
        "\n",
        "\n",
        "The following cell computes the document length (dl) of each component in each StackOverflow question (indexed by the question ID `qid`).\n"
      ]
    },
    {
      "cell_type": "code",
      "execution_count": 7,
      "metadata": {
        "id": "7BrSk87sPTvm"
      },
      "outputs": [],
      "source": [
        "def get_corpus_dl_dict(corpus_dataframe):\n",
        "    \"\"\" Input: corpus_dataframe, e.g.,\n",
        "         qid         title                 question          answer\n",
        "0  31424546   eclipse mars   eclipse moving eclipse    jdk download\n",
        "\n",
        "        Output: corpus_dl_dict, the document length for each component from each question, e.g.,\n",
        "        {'31424546': {'title': 2,\n",
        "                      'question': 3,\n",
        "                      'answer': 2}}\n",
        "    \"\"\"\n",
        "    length_dataframe = copy.deepcopy(corpus_dataframe)\n",
        "    for c in [\"title\", \"question\", \"answer\"]:\n",
        "        length_dataframe[c] = length_dataframe[c].progress_apply(lambda x: len(split_text(x)))\n",
        "\n",
        "    corpus_dl_dict = length_dataframe.set_index(\"qid\").to_dict(\"index\")\n",
        "\n",
        "    return corpus_dl_dict"
      ]
    },
    {
      "cell_type": "markdown",
      "metadata": {
        "id": "MDOb8YP_PQ4W"
      },
      "source": [
        "The following cell computes the document frequency (DF) of each word in each StackOverflow question (indexed by the question ID `qid`). The definition of document frequency is how many document a word appears in, not to be confused with the word's frequency in the entire corpus. For example, the df of \"eclipse\" below is 2 instead of 3."
      ]
    },
    {
      "cell_type": "code",
      "execution_count": 8,
      "metadata": {
        "id": "A-9_U7q9PKW-"
      },
      "outputs": [],
      "source": [
        "def get_corpus_df_dict(corpus_dataframe):\n",
        "    \"\"\" Input: corpus_dataframe, e.g.,\n",
        "         qid          title                 question          answer\n",
        " 0  31424546   eclipse mars   eclipse moving eclipse    jdk download\n",
        "\n",
        "        Output: corpus_df_dict, the document length for each component from each question, e.g.,\n",
        "        {'eclipse': 2, \"mars\": 1, \"moving\": 1, \"jdk\": 1, \"download\": 1}\n",
        "    \"\"\"\n",
        "    vectorizer = CountVectorizer(binary=True)\n",
        "\n",
        "    X = vectorizer.fit_transform(corpus_dataframe.title.tolist() + \\\n",
        "                                 corpus_dataframe.question.tolist() + \\\n",
        "                                 corpus_dataframe.answer.tolist())\n",
        "    corpus_df_dict = {token: doc_freq for token, doc_freq in \\\n",
        "                      zip(vectorizer.get_feature_names_out(), np.ravel(X.sum(axis=0)))}\n",
        "\n",
        "    return corpus_df_dict"
      ]
    },
    {
      "cell_type": "markdown",
      "metadata": {
        "id": "ky9DEE-3PHQ2"
      },
      "source": [
        "### Saving the Data Preprocessing Result\n",
        "\n",
        "After computing the TF, DF and dl, cache each of them in a pickle file to be loaded later:"
      ]
    },
    {
      "cell_type": "code",
      "execution_count": 9,
      "metadata": {
        "id": "VHnTVSnDO8a4"
      },
      "outputs": [],
      "source": [
        "pkl_path = pathlib.Path(\"pkl/\")\n",
        "if not pkl_path.exists(): pkl_path.mkdir()\n",
        "\n",
        "def save_preprocessing_results(lang):\n",
        "    print(f\"Processing {lang}...\")\n",
        "\n",
        "    lang_pkl_path = pkl_path / lang\n",
        "    if not lang_pkl_path.exists(): os.mkdir(lang_pkl_path)\n",
        "\n",
        "    # load corpus and convert corpus to various required data\n",
        "    corpus_dataframe = load_corpus(lang=lang, verbose=True)\n",
        "\n",
        "    # obtain the dictionary for the term frequency for each word in each component of each question\n",
        "    corpus_tf_dict = get_corpus_tf_dict(corpus_dataframe)\n",
        "\n",
        "    # saving the term frequency dictionary\n",
        "    save_pickle_file(corpus_tf_dict, f\"pkl/{lang}/corpus_tf_dict.pkl\")\n",
        "\n",
        "    # obtain the dictionary for the document length for each component in each question\n",
        "    corpus_dl_dict = get_corpus_dl_dict(corpus_dataframe)\n",
        "\n",
        "    # save the document length dictionary\n",
        "    save_pickle_file(corpus_dl_dict, f\"pkl/{lang}/corpus_dl_dict.pkl\")\n",
        "\n",
        "    # obtain the dictionary for the document frequency for each word in the corpus\n",
        "    corpus_df_dict = get_corpus_df_dict(corpus_dataframe)\n",
        "\n",
        "    # remove rare words\n",
        "    corpus_df_dict = {k: v for k, v in corpus_df_dict.items() if v >= 20}\n",
        "\n",
        "    # save the document frequency dictionary\n",
        "    save_pickle_file(corpus_df_dict, f\"pkl/{lang}/corpus_df_dict.pkl\")\n",
        "\n",
        "    return corpus_tf_dict, corpus_dl_dict, corpus_df_dict"
      ]
    },
    {
      "cell_type": "markdown",
      "metadata": {
        "id": "25NkbjmfLCVN"
      },
      "source": [
        "Run the data processing pipeline for the 3 languages:"
      ]
    },
    {
      "cell_type": "code",
      "execution_count": 10,
      "metadata": {
        "colab": {
          "base_uri": "https://localhost:8080/"
        },
        "id": "plzD8Kdn84oI",
        "outputId": "0de1c238-3a2c-433e-ed3f-353821f4e3ce"
      },
      "outputs": [
        {
          "output_type": "stream",
          "name": "stdout",
          "text": [
            "Processing python...\n"
          ]
        },
        {
          "output_type": "stream",
          "name": "stderr",
          "text": [
            "100%|██████████| 128500/128500 [00:00<00:00, 356201.69it/s]\n",
            "100%|██████████| 128500/128500 [00:00<00:00, 209583.99it/s]\n",
            "100%|██████████| 128500/128500 [00:01<00:00, 76275.02it/s]\n",
            "100%|██████████| 128500/128500 [00:01<00:00, 68213.31it/s]\n",
            "100%|██████████| 128500/128500 [00:00<00:00, 722697.21it/s]\n",
            "100%|██████████| 128500/128500 [00:00<00:00, 249714.62it/s]\n",
            "100%|██████████| 128500/128500 [00:00<00:00, 238147.41it/s]\n"
          ]
        },
        {
          "output_type": "stream",
          "name": "stdout",
          "text": [
            "Processing java...\n"
          ]
        },
        {
          "output_type": "stream",
          "name": "stderr",
          "text": [
            "100%|██████████| 159263/159263 [00:00<00:00, 462817.81it/s]\n",
            "100%|██████████| 159263/159263 [00:00<00:00, 331224.38it/s]\n",
            "100%|██████████| 159263/159263 [00:02<00:00, 75848.87it/s]\n",
            "100%|██████████| 159263/159263 [00:02<00:00, 63387.48it/s]\n",
            "100%|██████████| 159263/159263 [00:00<00:00, 713909.68it/s]\n",
            "100%|██████████| 159263/159263 [00:00<00:00, 171495.90it/s]\n",
            "100%|██████████| 159263/159263 [00:01<00:00, 132216.37it/s]\n"
          ]
        },
        {
          "output_type": "stream",
          "name": "stdout",
          "text": [
            "Processing javascript...\n"
          ]
        },
        {
          "output_type": "stream",
          "name": "stderr",
          "text": [
            "100%|██████████| 174015/174015 [00:00<00:00, 468754.17it/s]\n",
            "100%|██████████| 174015/174015 [00:00<00:00, 282588.27it/s]\n",
            "100%|██████████| 174015/174015 [00:02<00:00, 70476.37it/s]\n",
            "100%|██████████| 174015/174015 [00:03<00:00, 56373.80it/s]\n",
            "100%|██████████| 174015/174015 [00:00<00:00, 372076.04it/s]\n",
            "100%|██████████| 174015/174015 [00:01<00:00, 144357.10it/s]\n",
            "100%|██████████| 174015/174015 [00:00<00:00, 204889.01it/s]\n"
          ]
        }
      ],
      "source": [
        "for lang in [\"python\", \"java\", \"javascript\"]:\n",
        "     save_preprocessing_results(lang)"
      ]
    },
    {
      "cell_type": "markdown",
      "metadata": {
        "id": "6FRLif-ZLNY4"
      },
      "source": [
        "Create the folder `result` to store results for Question 4 - 6 if it does not exist."
      ]
    },
    {
      "cell_type": "code",
      "execution_count": 11,
      "metadata": {
        "id": "_VnIkthWLjos"
      },
      "outputs": [],
      "source": [
        "result_path = pathlib.Path(\"result\")\n",
        "if not result_path.exists(): result_path.mkdir()"
      ]
    },
    {
      "cell_type": "markdown",
      "metadata": {
        "id": "9mmb3lSFrdNo"
      },
      "source": [
        "## Step 3 - Implement the TF-IDF and BM25 Algorithms\n",
        "\n",
        "\n",
        "\n",
        "\n"
      ]
    },
    {
      "cell_type": "markdown",
      "metadata": {
        "id": "6sRVgNEqyGws"
      },
      "source": [
        "### Question 1 (30 pts)\n",
        "Compute the cosine similarity given dictionaries of word count, `query_dict` and `candidate_dict`.\n",
        "When working with term frequencies, they are extracted from `corpus_tf_dict` using `corpus_tf_dict[qid][component]` syntax)."
      ]
    },
    {
      "cell_type": "code",
      "execution_count": 12,
      "metadata": {
        "id": "MEfOaOj_xqNU"
      },
      "outputs": [],
      "source": [
        "def compute_cosine_similarity(query_word_cnt_dict,\n",
        "                              candidate_word_cnt_dict):\n",
        "    \"\"\" Input: query_dict: a dict of word and its word count in query document, e.g.\n",
        "               {\"i\": 1, \"love\": 1, \"python\": 1}\n",
        "               candidate_dict: a dict of word and its word count in the candidate document, e.g.\n",
        "               {\"i\": 1, \"like\": 1, \"c++\": 1}\n",
        "        Output: score: cosine similary between query and candidate documents\n",
        "                0.33333333333333337\n",
        "    \"\"\"\n",
        "\n",
        "    score = 0\n",
        "    #############################################START HERE#############################################\n",
        "    # Question 1 (30 pts)\n",
        "\n",
        "    # Get all unique words from both dictionaries\n",
        "    all_words = set(query_word_cnt_dict.keys()) | set(candidate_word_cnt_dict.keys())\n",
        "\n",
        "    # Calculate dot product\n",
        "    dot_product = 0\n",
        "    for word in all_words:\n",
        "        query_count = query_word_cnt_dict.get(word, 0)\n",
        "        candidate_count = candidate_word_cnt_dict.get(word, 0)\n",
        "        dot_product += query_count * candidate_count\n",
        "\n",
        "    # Calculate magnitude of query vector\n",
        "    query_magnitude = 0\n",
        "    for count in query_word_cnt_dict.values():\n",
        "        query_magnitude += count ** 2\n",
        "    query_magnitude = math.sqrt(query_magnitude)\n",
        "\n",
        "    # Calculate magnitude of candidate vector\n",
        "    candidate_magnitude = 0\n",
        "    for count in candidate_word_cnt_dict.values():\n",
        "        candidate_magnitude += count ** 2\n",
        "    candidate_magnitude = math.sqrt(candidate_magnitude)\n",
        "\n",
        "    # Calculate cosine similarity\n",
        "    if query_magnitude > 0 and candidate_magnitude > 0:\n",
        "        score = dot_product / (query_magnitude * candidate_magnitude)\n",
        "    else:\n",
        "        score = 0\n",
        "\n",
        "    ##############################################END HERE##############################################\n",
        "    return score"
      ]
    },
    {
      "cell_type": "markdown",
      "metadata": {
        "id": "-drAVVQqWOjU"
      },
      "source": [
        "Test your `compute_cosine_similarity` implementation on the Python corpus when retrieving candidate's title using query's title."
      ]
    },
    {
      "cell_type": "code",
      "execution_count": 13,
      "metadata": {
        "id": "vlvkvFCNWMq4"
      },
      "outputs": [],
      "source": [
        "lang = \"python\"\n",
        "\n",
        "corpus_tf_dict = load_pickle_file(f\"pkl/{lang}/corpus_tf_dict.pkl\")\n",
        "qid_dataframe = load_qid_dataframe(f\"{lang}\")\n",
        "\n",
        "result_dict = dict()\n",
        "for qid1, qid2 in list(qid_dataframe[[\"qid1\", \"qid2\"]].to_records(index=False)):\n",
        "    result_dict[(qid1, qid2)] = compute_cosine_similarity(corpus_tf_dict[qid1][\"title\"],\n",
        "                                                          corpus_tf_dict[qid2][\"title\"])\n",
        "\n",
        "\n",
        "result_filename = pathlib.Path(\"result/Q4.txt\")\n",
        "if result_filename.exists(): os.remove(result_filename)\n",
        "\n",
        "with open(result_filename, \"a\") as fp:\n",
        "    fp.write(\"qid1\\tqid2\\tscore\\n\")\n",
        "    for (qid1, qid2), score in result_dict.items():\n",
        "        fp.write(f\"{qid1}\\t{qid2}\\t{score}\\n\")"
      ]
    },
    {
      "cell_type": "markdown",
      "metadata": {
        "id": "qGMQTUNJxmr_"
      },
      "source": [
        "### Question 2 (30 pts)\n",
        "Compute the TF-IDF score of each word in `document_tf_dict` and store it in the `document_word_tfidf_dict`.\n",
        "\n",
        "For the total number of documents `N`, as our LinkSO dataset is scraped from the StackOverflow website, it is a small sample of the entire pool of posts, and the exact number of posts is constantly changing (see real-time statistics [here](https://api.stackexchange.com/docs/info#filter=default&site=stackoverflow&run=true) for all topics). For the sake of this assignment, we could set the total number of posts to a constant, for example, `N = 10 ** 6`, as an approximation.\n",
        "\n",
        "Notice the example provided as docstring is used to help you understand the input and output data structures. You are not expected to reproduce the numbers exactly."
      ]
    },
    {
      "cell_type": "code",
      "execution_count": 14,
      "metadata": {
        "id": "mekQGz4_xs-N"
      },
      "outputs": [],
      "source": [
        "def compute_document_tfidf(document_tf_dict,\n",
        "                           vocab):\n",
        "    \"\"\" Input: document_tf_dict: a dict of word and its term frequency in document\n",
        "               {\"i\": 1, \"love\": 1, \"python\": 1}\n",
        "               corpus_df_dict: a dict of word and its document frequencey in the entire corpus\n",
        "               {\"i\": 2, \"you\": 1, \"we\": 3, \"love\": 1, \"like\": 1, \"hate\": 2, \"python\": 5, \"c++\": 3}\n",
        "        Output: document_word_tfidf_dict: a dict of word and its TF-IDF score in the document\n",
        "               {'i': 13.592366256649782, 'love': 14.103192380416024, 'python': 12.803907396283263}\n",
        "    \"\"\"\n",
        "\n",
        "    document_word_tfidf_dict = dict()\n",
        "    #############################################START HERE#############################################\n",
        "    # Question 2 (30 pts)\n",
        "    N = 10 ** 6\n",
        "    for word, tf in document_tf_dict.items():\n",
        "        # Get document frequency for the word\n",
        "        df = corpus_df_dict.get(word, 0)\n",
        "\n",
        "        # Skip words not in corpus\n",
        "        if df == 0:\n",
        "            continue\n",
        "\n",
        "        # Calculate IDF using log base 2\n",
        "        idf = math.log2(N / df)\n",
        "\n",
        "        # Calculate TF-IDF\n",
        "        tfidf = tf * idf\n",
        "\n",
        "        document_word_tfidf_dict[word] = tfidf\n",
        "\n",
        "    ##############################################END HERE##############################################\n",
        "\n",
        "    return document_word_tfidf_dict"
      ]
    },
    {
      "cell_type": "markdown",
      "metadata": {
        "id": "WxnFWDzQX65s"
      },
      "source": [
        "Test your `compute_document_tfidf` implementation on the title component of the Java corpus."
      ]
    },
    {
      "cell_type": "code",
      "execution_count": 15,
      "metadata": {
        "id": "ev6FSna6Wws8"
      },
      "outputs": [],
      "source": [
        "lang = \"java\"\n",
        "\n",
        "corpus_tf_dict = load_pickle_file(f\"pkl/{lang}/corpus_tf_dict.pkl\")\n",
        "corpus_df_dict = load_pickle_file(f\"pkl/{lang}/corpus_df_dict.pkl\")\n",
        "qid_dataframe = load_qid_dataframe(f\"{lang}\")\n",
        "\n",
        "result_dict = dict()\n",
        "for qid1 in qid_dataframe.qid1.tolist():\n",
        "    result_dict[qid1] = compute_document_tfidf(corpus_tf_dict[qid1][\"title\"],\n",
        "                                               corpus_df_dict)\n",
        "\n",
        "result_filename = pathlib.Path(\"result/Q5.txt\")\n",
        "if result_filename.exists(): os.remove(result_filename)\n",
        "\n",
        "with open(result_filename, \"a\") as fp:\n",
        "    fp.write(\"qid1\\ttoken\\ttfidf\\n\")\n",
        "    for qid1, d in result_dict.items():\n",
        "        for token, score in d.items():\n",
        "            fp.write(f\"{qid1}\\t{token}\\t{score}\\n\")"
      ]
    },
    {
      "cell_type": "markdown",
      "metadata": {
        "id": "m60k2-k4xhRN"
      },
      "source": [
        "### Question 3 (40 pts)\n",
        "\n",
        "Compute the BM25 score between `query_word_cnt_dict` and `candidate_word_cnt_dict`. `N = 10 ** 6` following Question 2.\n",
        "\n",
        "Notice the example provided as docstring is used to help you understand the input and output data structures. You are not expected to reproduce the numbers exactly."
      ]
    },
    {
      "cell_type": "code",
      "execution_count": 16,
      "metadata": {
        "id": "hfd6rQiGPs-N"
      },
      "outputs": [],
      "source": [
        "def compute_document_bm25(query_word_cnt_dict,\n",
        "                          candidate_word_cnt_dict,\n",
        "                          corpus_df_dict,\n",
        "                          candidate_length,\n",
        "                          avgdl):\n",
        "    \"\"\" Input: query_tf_dict: a dict of word and its term frequency in query document\n",
        "               {\"i\": 1, \"love\": 1, \"python\": 1}\n",
        "               candidate_tf_dict:a dict of word and its term frequency in candidate document\n",
        "               {\"i\": 1, \"like\": 1, \"c++\": 1}\n",
        "               corpus_df_dict: a dict of word and its document frequencey in the entire corpus\n",
        "               {\"i\": 2, \"you\": 1, \"we\": 3, \"love\": 1, \"like\": 1, \"hate\": 2, \"python\": 5, \"c++\": 3}\n",
        "               candidate_length: number of words in candidate document\n",
        "               3\n",
        "               avgdl: average document length in the entire corpus\n",
        "               4\n",
        "       Output: score: BM25 score between query and candidate\n",
        "               15.816571644101565\n",
        "    \"\"\"\n",
        "\n",
        "\n",
        "    # hyperparameters for BM25 algorithm\n",
        "    k1, b = 3, 0.75\n",
        "\n",
        "    score = 0\n",
        "    #############################################REPAIR THIS WRONG SOL#############################################\n",
        "    # Question 3 (40 pts)\n",
        "    for word, tf in query_word_cnt_dict.items():\n",
        "        candidate_tf = candidate_word_cnt_dict.get(word, 0)\n",
        "        df = corpus_df_dict.get(word, 0)\n",
        "        if df == 0:\n",
        "            continue\n",
        "\n",
        "        idf = math.log((10 ** 6 - df + 0.5) / (df + 0.5) + 1)\n",
        "        numerator = candidate_tf * (k1 + 1)\n",
        "        denominator = candidate_tf + k1 * (1 - b + b * (candidate_length / avgdl))\n",
        "        score += idf * (numerator / denominator)\n",
        "\n",
        "    ##############################################END HERE##############################################\n",
        "\n",
        "    return score\n"
      ]
    },
    {
      "cell_type": "markdown",
      "metadata": {
        "id": "lAt0Crk9YF9x"
      },
      "source": [
        "Test your `compute_document_bm25` implementation on the `title` component of the JavaScript corpus."
      ]
    },
    {
      "cell_type": "code",
      "execution_count": 17,
      "metadata": {
        "colab": {
          "base_uri": "https://localhost:8080/"
        },
        "id": "1R3ncHWaX4Ol",
        "outputId": "e9ad265f-31cc-4fbb-f90a-1d303255f478"
      },
      "outputs": [
        {
          "output_type": "stream",
          "name": "stderr",
          "text": [
            "100%|██████████| 174015/174015 [00:00<00:00, 366207.56it/s]\n"
          ]
        }
      ],
      "source": [
        "lang = \"javascript\"\n",
        "\n",
        "corpus_tf_dict = load_pickle_file(f\"pkl/{lang}/corpus_tf_dict.pkl\")\n",
        "corpus_df_dict = load_pickle_file(f\"pkl/{lang}/corpus_df_dict.pkl\")\n",
        "corpus_dl_dict = load_pickle_file(f\"pkl/{lang}/corpus_dl_dict.pkl\")\n",
        "\n",
        "qid_dataframe = load_qid_dataframe(f\"{lang}\")\n",
        "\n",
        "corpus_dataframe = load_corpus(lang=lang, verbose=True)\n",
        "avgdl = corpus_dataframe[\"title\"].apply(lambda x: len(split_text(x))).sum() / len(corpus_dataframe)\n",
        "\n",
        "result_dict = dict()\n",
        "for qid1, qid2 in list(qid_dataframe[[\"qid1\", \"qid2\"]].to_records(index=False)):\n",
        "    result_dict[(qid1, qid2)] = compute_document_bm25(corpus_tf_dict[qid1][\"title\"],\n",
        "                                                      corpus_tf_dict[qid2][\"title\"],\n",
        "                                                      corpus_df_dict,\n",
        "                                                      corpus_dl_dict[qid2][\"title\"],\n",
        "                                                      avgdl)\n",
        "\n",
        "\n",
        "result_filename = pathlib.Path(\"result/Q6.txt\")\n",
        "if result_filename.exists(): os.remove(result_filename)\n",
        "\n",
        "with open(result_filename, \"a\") as fp:\n",
        "    fp.write(\"qid1\\tqid2\\tscore\\n\")\n",
        "    for (qid1, qid2), score in result_dict.items():\n",
        "        fp.write(f\"{qid1}\\t{qid2}\\t{score}\\n\")"
      ]
    },
    {
      "cell_type": "markdown",
      "metadata": {
        "id": "adiHX2tn2IXu"
      },
      "source": [
        "### Running Your Ranking Algorithms\n",
        "\n",
        "The function `run_retrieval_algorithm` puts your implementations (`compute_cosine_similarity`, `compute_document_tfidf`, and `compute_document_bm25`) together and apply them to the entire dataset. Even though the code has been provided, it is recommended to read it to get a sense of how the retrieval pipeline works."
      ]
    },
    {
      "cell_type": "code",
      "source": [
        "print(\"Checking if pkl files exist:\")\n",
        "for lang in [\"python\", \"java\", \"javascript\"]:\n",
        "       for file_type in [\"corpus_tf_dict\", \"corpus_dl_dict\", \"corpus_df_dict\"]:\n",
        "           path = f\"pkl/{lang}/{file_type}.pkl\"\n",
        "           print(f\"{path}: {os.path.exists(path)}\")"
      ],
      "metadata": {
        "colab": {
          "base_uri": "https://localhost:8080/"
        },
        "id": "vQG8tUrSixPi",
        "outputId": "7fcba383-5cdb-4b4b-8807-3581acb4bca2"
      },
      "execution_count": 18,
      "outputs": [
        {
          "output_type": "stream",
          "name": "stdout",
          "text": [
            "Checking if pkl files exist:\n",
            "pkl/python/corpus_tf_dict.pkl: True\n",
            "pkl/python/corpus_dl_dict.pkl: True\n",
            "pkl/python/corpus_df_dict.pkl: True\n",
            "pkl/java/corpus_tf_dict.pkl: True\n",
            "pkl/java/corpus_dl_dict.pkl: True\n",
            "pkl/java/corpus_df_dict.pkl: True\n",
            "pkl/javascript/corpus_tf_dict.pkl: True\n",
            "pkl/javascript/corpus_dl_dict.pkl: True\n",
            "pkl/javascript/corpus_df_dict.pkl: True\n"
          ]
        }
      ]
    },
    {
      "cell_type": "code",
      "execution_count": 19,
      "metadata": {
        "id": "uNkmuEEjmDC7"
      },
      "outputs": [],
      "source": [
        "def run_retrieval_algorithm(lang, algo, component, qid1s=None):\n",
        "    # Fix the path issue - remove the extra slash\n",
        "    # base_path = pathlib.Path(\"cs589/assignment1/dataset/\")  # WRONG\n",
        "    # The base_path should match what was set earlier in the notebook\n",
        "\n",
        "    corpus_tf_dict = load_pickle_file(f\"pkl/{lang}/corpus_tf_dict.pkl\")\n",
        "    corpus_dl_dict = load_pickle_file(f\"pkl/{lang}/corpus_dl_dict.pkl\")\n",
        "    corpus_df_dict = load_pickle_file(f\"pkl/{lang}/corpus_df_dict.pkl\")\n",
        "\n",
        "    corpus_dataframe = load_corpus(lang=lang, verbose=False)\n",
        "    available_ids = corpus_dataframe.qid.unique()\n",
        "    avgdl = corpus_dataframe[component].apply(lambda x: len(split_text(x))).sum() / len(corpus_dataframe)\n",
        "\n",
        "    qid1s = qid1s if qid1s is not None else load_qids(lang=lang)  # Fix: use 'is not None'\n",
        "\n",
        "    qid1_dataframe = load_qid_dataframe(lang=lang)\n",
        "\n",
        "    result_folder = pathlib.Path(\"result/\")\n",
        "    if not result_folder.exists():\n",
        "        result_folder.mkdir()\n",
        "\n",
        "    result_filename = pathlib.Path(f\"result/{lang}_{algo}_{component}.txt\")\n",
        "\n",
        "    # remove existing result file\n",
        "    if result_filename.exists():\n",
        "        os.remove(result_filename)\n",
        "\n",
        "    # write header\n",
        "    with open(result_filename, \"a\") as fp:\n",
        "        fp.write(\"qid1\\tqid2\\tscore\\tlabel\\n\")\n",
        "\n",
        "    for qid1 in tqdm(qid1s):\n",
        "        if qid1 not in available_ids:\n",
        "            continue\n",
        "\n",
        "        cond1 = qid1_dataframe.qid1 == qid1\n",
        "        cond2 = qid1_dataframe.label == 1\n",
        "\n",
        "        qid2s = qid1_dataframe[cond1].qid2.tolist()\n",
        "        qid2s_linked = qid1_dataframe[cond1 & cond2].qid2.tolist()\n",
        "\n",
        "        qid1_tf_dict = corpus_tf_dict[qid1][\"title\"]\n",
        "        query_result = dict()\n",
        "\n",
        "        # only for BM25\n",
        "        max_bm25 = -1\n",
        "        for qid2 in qid2s:\n",
        "            if qid2 not in available_ids:\n",
        "                continue\n",
        "\n",
        "            qid2_tf_dict = corpus_tf_dict[qid2][component]\n",
        "\n",
        "            # tfidf\n",
        "            if algo == \"tfidf\":\n",
        "                score = compute_cosine_similarity(compute_document_tfidf(qid1_tf_dict, corpus_df_dict),\n",
        "                                                  compute_document_tfidf(qid2_tf_dict, corpus_df_dict))\n",
        "\n",
        "            # bm25\n",
        "            if algo == \"bm25\":\n",
        "                candidate_length = corpus_dl_dict[qid2][component]\n",
        "                score = compute_document_bm25(qid1_tf_dict,\n",
        "                                              qid2_tf_dict,\n",
        "                                              corpus_df_dict,\n",
        "                                              candidate_length,\n",
        "                                              avgdl)\n",
        "\n",
        "                max_bm25 = max(score, max_bm25)\n",
        "\n",
        "            query_result[qid2] = score\n",
        "\n",
        "        # adjust BM25 score\n",
        "        if (algo == \"bm25\") and (max_bm25 != 0):\n",
        "            query_result = {qid: score / max_bm25 for qid, score in query_result.items()}\n",
        "\n",
        "        qid2s_sorted = sorted(query_result, key=query_result.get, reverse=True)\n",
        "\n",
        "        with open(result_filename, \"a\") as fp:\n",
        "            for qid2 in qid2s_sorted:\n",
        "                label = 1 if qid2 in qid2s_linked else 0\n",
        "                score = query_result[qid2]\n",
        "\n",
        "                fp.write(f\"{qid1}\\t{qid2}\\t{score}\\t{label}\\n\")"
      ]
    },
    {
      "cell_type": "markdown",
      "metadata": {
        "id": "n44keLmELb4D"
      },
      "source": [
        "Run the retrieval algorithms and save the ranking results for each language and each retrieval algorithms:"
      ]
    },
    {
      "cell_type": "code",
      "source": [
        "#testing run with a single language\n",
        "run_retrieval_algorithm(\"python\", \"bm25\", \"title\")"
      ],
      "metadata": {
        "colab": {
          "base_uri": "https://localhost:8080/"
        },
        "id": "J4zbdrmOjBrJ",
        "outputId": "d6c47a84-4c54-447a-a6ff-335adaa882a9"
      },
      "execution_count": 20,
      "outputs": [
        {
          "output_type": "stream",
          "name": "stderr",
          "text": [
            "100%|██████████| 1000/1000 [06:25<00:00,  2.59it/s]\n"
          ]
        }
      ]
    },
    {
      "cell_type": "code",
      "execution_count": 22,
      "metadata": {
        "colab": {
          "base_uri": "https://localhost:8080/"
        },
        "id": "GWTUeO5lry_N",
        "outputId": "4ab8f74b-5887-4a02-d5a1-6160d4ba0895"
      },
      "outputs": [
        {
          "output_type": "stream",
          "name": "stdout",
          "text": [
            "Running bm25 on python's title...\n"
          ]
        },
        {
          "output_type": "stream",
          "name": "stderr",
          "text": [
            "100%|██████████| 1000/1000 [06:08<00:00,  2.72it/s]\n"
          ]
        },
        {
          "output_type": "stream",
          "name": "stdout",
          "text": [
            "Running bm25 on python's question...\n"
          ]
        },
        {
          "output_type": "stream",
          "name": "stderr",
          "text": [
            "100%|██████████| 1000/1000 [05:34<00:00,  2.99it/s]\n"
          ]
        },
        {
          "output_type": "stream",
          "name": "stdout",
          "text": [
            "Running bm25 on python's answer...\n"
          ]
        },
        {
          "output_type": "stream",
          "name": "stderr",
          "text": [
            "100%|██████████| 1000/1000 [06:05<00:00,  2.74it/s]\n"
          ]
        },
        {
          "output_type": "stream",
          "name": "stdout",
          "text": [
            "Running tfidf on python's title...\n"
          ]
        },
        {
          "output_type": "stream",
          "name": "stderr",
          "text": [
            "100%|██████████| 1000/1000 [05:35<00:00,  2.98it/s]\n"
          ]
        },
        {
          "output_type": "stream",
          "name": "stdout",
          "text": [
            "Running tfidf on python's question...\n"
          ]
        },
        {
          "output_type": "stream",
          "name": "stderr",
          "text": [
            "100%|██████████| 1000/1000 [06:02<00:00,  2.76it/s]\n"
          ]
        },
        {
          "output_type": "stream",
          "name": "stdout",
          "text": [
            "Running tfidf on python's answer...\n"
          ]
        },
        {
          "output_type": "stream",
          "name": "stderr",
          "text": [
            "100%|██████████| 1000/1000 [05:33<00:00,  2.99it/s]\n"
          ]
        },
        {
          "output_type": "stream",
          "name": "stdout",
          "text": [
            "Running bm25 on java's title...\n"
          ]
        },
        {
          "output_type": "stream",
          "name": "stderr",
          "text": [
            "100%|██████████| 1000/1000 [07:13<00:00,  2.31it/s]\n"
          ]
        },
        {
          "output_type": "stream",
          "name": "stdout",
          "text": [
            "Running bm25 on java's question...\n"
          ]
        },
        {
          "output_type": "stream",
          "name": "stderr",
          "text": [
            "100%|██████████| 1000/1000 [07:11<00:00,  2.32it/s]\n"
          ]
        },
        {
          "output_type": "stream",
          "name": "stdout",
          "text": [
            "Running bm25 on java's answer...\n"
          ]
        },
        {
          "output_type": "stream",
          "name": "stderr",
          "text": [
            "100%|██████████| 1000/1000 [07:20<00:00,  2.27it/s]\n"
          ]
        },
        {
          "output_type": "stream",
          "name": "stdout",
          "text": [
            "Running tfidf on java's title...\n"
          ]
        },
        {
          "output_type": "stream",
          "name": "stderr",
          "text": [
            "100%|██████████| 1000/1000 [07:03<00:00,  2.36it/s]\n"
          ]
        },
        {
          "output_type": "stream",
          "name": "stdout",
          "text": [
            "Running tfidf on java's question...\n"
          ]
        },
        {
          "output_type": "stream",
          "name": "stderr",
          "text": [
            "100%|██████████| 1000/1000 [07:21<00:00,  2.27it/s]\n"
          ]
        },
        {
          "output_type": "stream",
          "name": "stdout",
          "text": [
            "Running tfidf on java's answer...\n"
          ]
        },
        {
          "output_type": "stream",
          "name": "stderr",
          "text": [
            "100%|██████████| 1000/1000 [07:02<00:00,  2.37it/s]\n"
          ]
        },
        {
          "output_type": "stream",
          "name": "stdout",
          "text": [
            "Running bm25 on javascript's title...\n"
          ]
        },
        {
          "output_type": "stream",
          "name": "stderr",
          "text": [
            "100%|██████████| 1000/1000 [06:53<00:00,  2.42it/s]\n"
          ]
        },
        {
          "output_type": "stream",
          "name": "stdout",
          "text": [
            "Running bm25 on javascript's question...\n"
          ]
        },
        {
          "output_type": "stream",
          "name": "stderr",
          "text": [
            "100%|██████████| 1000/1000 [06:52<00:00,  2.43it/s]\n"
          ]
        },
        {
          "output_type": "stream",
          "name": "stdout",
          "text": [
            "Running bm25 on javascript's answer...\n"
          ]
        },
        {
          "output_type": "stream",
          "name": "stderr",
          "text": [
            "100%|██████████| 1000/1000 [06:49<00:00,  2.44it/s]\n"
          ]
        },
        {
          "output_type": "stream",
          "name": "stdout",
          "text": [
            "Running tfidf on javascript's title...\n"
          ]
        },
        {
          "output_type": "stream",
          "name": "stderr",
          "text": [
            "100%|██████████| 1000/1000 [06:44<00:00,  2.47it/s]\n"
          ]
        },
        {
          "output_type": "stream",
          "name": "stdout",
          "text": [
            "Running tfidf on javascript's question...\n"
          ]
        },
        {
          "output_type": "stream",
          "name": "stderr",
          "text": [
            "100%|██████████| 1000/1000 [06:40<00:00,  2.50it/s]\n"
          ]
        },
        {
          "output_type": "stream",
          "name": "stdout",
          "text": [
            "Running tfidf on javascript's answer...\n"
          ]
        },
        {
          "output_type": "stream",
          "name": "stderr",
          "text": [
            "100%|██████████| 1000/1000 [06:41<00:00,  2.49it/s]\n"
          ]
        }
      ],
      "source": [
        "langs = [\"python\", \"java\", \"javascript\"]\n",
        "algos = [\"bm25\", \"tfidf\"]\n",
        "components = [\"title\", \"question\", \"answer\"]\n",
        "\n",
        "for lang, algo, component in itertools.product(langs, algos, components):\n",
        "    print(f\"Running {algo} on {lang}'s {component}...\")\n",
        "    run_retrieval_algorithm(lang, algo, component)"
      ]
    },
    {
      "cell_type": "markdown",
      "source": [
        "The score can be evaluated as follows."
      ],
      "metadata": {
        "id": "a5RdAUVuOidE"
      }
    },
    {
      "cell_type": "code",
      "source": [
        "from cs589assignment1.utils.metrics import *\n",
        "metrics = [\"mrr\", \"ndcg@5\", \"ndcg@10\"]\n",
        "\n",
        "for component in components:\n",
        "    print(component)\n",
        "    score_dict = {(lang, metric): dict() for lang, metric in itertools.product(langs, metrics)}\n",
        "\n",
        "    for lang, metric, algo in itertools.product(langs, metrics, algos):\n",
        "        score_dict[(lang, metric)][algo] = compute_final_metric(lang, algo, component, metric)\n",
        "\n",
        "    score_df = pd.DataFrame(score_dict)\n",
        "    print(score_df)"
      ],
      "metadata": {
        "colab": {
          "base_uri": "https://localhost:8080/"
        },
        "id": "iYjQfc2LcbR7",
        "outputId": "a1babf3b-9b70-47e2-9960-f448cf26705a"
      },
      "execution_count": 23,
      "outputs": [
        {
          "output_type": "stream",
          "name": "stdout",
          "text": [
            "title\n",
            "         python                          java                     javascript  \\\n",
            "            mrr    ndcg@5   ndcg@10       mrr    ndcg@5   ndcg@10        mrr   \n",
            "bm25   0.364947  0.379834  0.441378  0.360640  0.377919  0.434243   0.395339   \n",
            "tfidf  0.315963  0.318377  0.374250  0.335568  0.349815  0.401323   0.403043   \n",
            "\n",
            "                           \n",
            "         ndcg@5   ndcg@10  \n",
            "bm25   0.426342  0.479033  \n",
            "tfidf  0.439718  0.489041  \n",
            "question\n",
            "         python                          java                     javascript  \\\n",
            "            mrr    ndcg@5   ndcg@10       mrr    ndcg@5   ndcg@10        mrr   \n",
            "bm25   0.304741  0.316243  0.371453  0.309948  0.318287  0.375114   0.322526   \n",
            "tfidf  0.240820  0.234164  0.306242  0.267533  0.263632  0.325672   0.269604   \n",
            "\n",
            "                           \n",
            "         ndcg@5   ndcg@10  \n",
            "bm25   0.332463  0.395292  \n",
            "tfidf  0.271310  0.334301  \n",
            "answer\n",
            "         python                          java                     javascript  \\\n",
            "            mrr    ndcg@5   ndcg@10       mrr    ndcg@5   ndcg@10        mrr   \n",
            "bm25   0.261434  0.264660  0.325447  0.252149  0.257548  0.320887   0.256318   \n",
            "tfidf  0.221825  0.213105  0.282093  0.218245  0.209987  0.283212   0.235345   \n",
            "\n",
            "                           \n",
            "         ndcg@5   ndcg@10  \n",
            "bm25   0.258174  0.324205  \n",
            "tfidf  0.231593  0.304468  \n"
          ]
        }
      ]
    },
    {
      "cell_type": "code",
      "source": [
        "## Question 5: FASTEST VERSION - Sample-based Parameter Tuning\n",
        "\n",
        "import matplotlib.pyplot as plt\n",
        "import numpy as np\n",
        "\n",
        "# OPTION 1: Use existing results with different parameters (FASTEST - 5 minutes)\n",
        "def quick_parameter_comparison(lang=\"python\", component=\"title\"):\n",
        "    \"\"\"\n",
        "    Quickly compare a few key parameter combinations using existing data\n",
        "    This reuses the already computed results with default parameters\n",
        "    \"\"\"\n",
        "    # Test just 5 strategic parameter combinations\n",
        "    param_combinations = [\n",
        "        (1.2, 0.75),  # Standard Lucene default\n",
        "        (1.5, 0.75),  # Slightly higher k1\n",
        "        (2.0, 0.75),  # Higher k1\n",
        "        (1.5, 0.5),   # Lower b\n",
        "        (1.5, 1.0),   # Higher b\n",
        "    ]\n",
        "\n",
        "    metrics = [\"mrr\", \"ndcg@5\", \"ndcg@10\"]\n",
        "    results = {metric: [] for metric in metrics}\n",
        "\n",
        "    print(f\"Quick Parameter Tuning for {lang} - {component}\")\n",
        "    print(f\"Testing {len(param_combinations)} parameter combinations\\n\")\n",
        "\n",
        "    for idx, (k1, b) in enumerate(param_combinations):\n",
        "        print(f\"Testing {idx+1}/{len(param_combinations)}: k1={k1}, b={b}\")\n",
        "\n",
        "        # Run retrieval with these parameters\n",
        "        result_filename = run_retrieval_algorithm_tunable(lang, component, k1, b)\n",
        "\n",
        "        # Evaluate metrics\n",
        "        for metric in metrics:\n",
        "            score = compute_final_metric_from_file(result_filename, metric)\n",
        "            results[metric].append(score)\n",
        "\n",
        "    # Create comparison plot\n",
        "    plot_parameter_comparison(results, param_combinations, lang, component)\n",
        "\n",
        "    return results, param_combinations\n",
        "\n",
        "\n",
        "# OPTION 2: Grid search with sampling (MEDIUM - 15-30 minutes)\n",
        "def sampled_parameter_tuning(lang=\"python\", component=\"title\", n_samples=15):\n",
        "    \"\"\"\n",
        "    Sample parameter space more efficiently\n",
        "    Tests only n_samples combinations instead of all 110\n",
        "    \"\"\"\n",
        "    # Define full parameter ranges\n",
        "    k1_range = (0.5, 5.0)\n",
        "    b_range = (0.0, 1.0)\n",
        "\n",
        "    # Generate strategic samples\n",
        "    # Include corners and center\n",
        "    k1_samples = [0.5, 1.2, 1.5, 2.0, 3.0, 5.0]  # Strategic values\n",
        "    b_samples = [0.0, 0.25, 0.5, 0.75, 1.0]  # Strategic values\n",
        "\n",
        "    # Create grid from strategic samples\n",
        "    param_combinations = [(k1, b) for k1 in k1_samples for b in b_samples]\n",
        "\n",
        "    metrics = [\"mrr\", \"ndcg@5\", \"ndcg@10\"]\n",
        "    results_dict = {metric: {} for metric in metrics}\n",
        "    best_scores = {metric: 0 for metric in metrics}\n",
        "    best_params = {metric: (0, 0) for metric in metrics}\n",
        "\n",
        "    print(f\"Sampled Parameter Tuning for {lang} - {component}\")\n",
        "    print(f\"Testing {len(param_combinations)} strategic combinations\\n\")\n",
        "\n",
        "    for idx, (k1, b) in enumerate(param_combinations):\n",
        "        print(f\"Progress: {idx+1}/{len(param_combinations)} - k1={k1:.1f}, b={b:.2f}\", end='\\r')\n",
        "\n",
        "        # Run retrieval\n",
        "        result_filename = run_retrieval_algorithm_tunable(lang, component, k1, b)\n",
        "\n",
        "        # Evaluate metrics\n",
        "        for metric in metrics:\n",
        "            score = compute_final_metric_from_file(result_filename, metric)\n",
        "            results_dict[metric][(k1, b)] = score\n",
        "\n",
        "            if score > best_scores[metric]:\n",
        "                best_scores[metric] = score\n",
        "                best_params[metric] = (k1, b)\n",
        "\n",
        "    print(\"\\n\\nTuning complete!\")\n",
        "\n",
        "    # Create visualization\n",
        "    plot_sampled_results(results_dict, best_scores, best_params,\n",
        "                         k1_samples, b_samples, lang, component)\n",
        "\n",
        "    return results_dict, best_scores, best_params\n",
        "\n",
        "\n",
        "def plot_parameter_comparison(results, param_combinations, lang, component):\n",
        "    \"\"\"\n",
        "    Create bar chart comparing parameter combinations\n",
        "    \"\"\"\n",
        "    metrics = [\"mrr\", \"ndcg@5\", \"ndcg@10\"]\n",
        "    metric_names = [\"MRR\", \"NDCG@5\", \"NDCG@10\"]\n",
        "\n",
        "    fig, axes = plt.subplots(1, 3, figsize=(15, 5))\n",
        "\n",
        "    param_labels = [f\"k1={k1}\\nb={b}\" for k1, b in param_combinations]\n",
        "    x = np.arange(len(param_combinations))\n",
        "\n",
        "    for idx, (metric, metric_name) in enumerate(zip(metrics, metric_names)):\n",
        "        ax = axes[idx]\n",
        "        scores = results[metric]\n",
        "\n",
        "        bars = ax.bar(x, scores, color='steelblue', alpha=0.7, edgecolor='black')\n",
        "\n",
        "        # Highlight best\n",
        "        best_idx = np.argmax(scores)\n",
        "        bars[best_idx].set_color('orange')\n",
        "        bars[best_idx].set_edgecolor('red')\n",
        "        bars[best_idx].set_linewidth(2)\n",
        "\n",
        "        ax.set_xlabel('Parameters', fontsize=10)\n",
        "        ax.set_ylabel('Score', fontsize=10)\n",
        "        ax.set_title(f'{metric_name}\\nBest: {max(scores):.4f} ({param_labels[best_idx]})',\n",
        "                     fontweight='bold')\n",
        "        ax.set_xticks(x)\n",
        "        ax.set_xticklabels(param_labels, fontsize=8)\n",
        "        ax.grid(axis='y', alpha=0.3)\n",
        "\n",
        "        # Add value labels on bars\n",
        "        for i, v in enumerate(scores):\n",
        "            ax.text(i, v + 0.005, f'{v:.4f}', ha='center', va='bottom', fontsize=8)\n",
        "\n",
        "    plt.suptitle(f'BM25 Parameter Comparison - {lang.upper()} ({component})',\n",
        "                 fontsize=14, fontweight='bold')\n",
        "    plt.tight_layout()\n",
        "    plt.savefig(f'bm25_comparison_{lang}_{component}.png', dpi=300, bbox_inches='tight')\n",
        "    plt.show()\n",
        "\n",
        "    # Print best\n",
        "    print(\"\\nBest Parameters:\")\n",
        "    for metric, metric_name in zip(metrics, metric_names):\n",
        "        best_idx = np.argmax(results[metric])\n",
        "        k1, b = param_combinations[best_idx]\n",
        "        print(f\"{metric_name:10s}: k1={k1:.1f}, b={b:.2f} (score={results[metric][best_idx]:.4f})\")\n",
        "\n",
        "\n",
        "def plot_sampled_results(results_dict, best_scores, best_params,\n",
        "                         k1_samples, b_samples, lang, component):\n",
        "    \"\"\"\n",
        "    Create heatmap from sampled results\n",
        "    \"\"\"\n",
        "    metrics = [\"mrr\", \"ndcg@5\", \"ndcg@10\"]\n",
        "    metric_names = [\"MRR\", \"NDCG@5\", \"NDCG@10\"]\n",
        "\n",
        "    fig, axes = plt.subplots(1, 3, figsize=(18, 5))\n",
        "\n",
        "    for idx, (metric, metric_name) in enumerate(zip(metrics, metric_names)):\n",
        "        ax = axes[idx]\n",
        "\n",
        "        # Create matrix for heatmap\n",
        "        data_matrix = np.zeros((len(k1_samples), len(b_samples)))\n",
        "        for i, k1 in enumerate(k1_samples):\n",
        "            for j, b in enumerate(b_samples):\n",
        "                data_matrix[i, j] = results_dict[metric].get((k1, b), 0)\n",
        "\n",
        "        # Create heatmap\n",
        "        im = ax.imshow(data_matrix, cmap='YlOrRd', aspect='auto', origin='lower')\n",
        "\n",
        "        ax.set_title(f'{metric_name}\\nBest: {best_scores[metric]:.4f} at k1={best_params[metric][0]:.1f}, b={best_params[metric][1]:.2f}',\n",
        "                     fontsize=11, fontweight='bold')\n",
        "        ax.set_xlabel('b parameter', fontsize=10)\n",
        "        ax.set_ylabel('k1 parameter', fontsize=10)\n",
        "\n",
        "        ax.set_xticks(range(len(b_samples)))\n",
        "        ax.set_xticklabels([f'{b:.2f}' for b in b_samples])\n",
        "        ax.set_yticks(range(len(k1_samples)))\n",
        "        ax.set_yticklabels([f'{k1:.1f}' for k1 in k1_samples])\n",
        "\n",
        "        plt.colorbar(im, ax=ax)\n",
        "\n",
        "        # Add values\n",
        "        for i in range(len(k1_samples)):\n",
        "            for j in range(len(b_samples)):\n",
        "                text = ax.text(j, i, f'{data_matrix[i, j]:.3f}',\n",
        "                             ha=\"center\", va=\"center\", color=\"black\", fontsize=8)\n",
        "\n",
        "    plt.suptitle(f'BM25 Parameter Tuning - {lang.upper()} ({component})',\n",
        "                 fontsize=14, fontweight='bold')\n",
        "    plt.tight_layout()\n",
        "    plt.savefig(f'bm25_tuning_sampled_{lang}_{component}.png', dpi=300, bbox_inches='tight')\n",
        "    plt.show()\n",
        "\n",
        "\n",
        "# Helper functions (reuse from previous code)\n",
        "def compute_document_bm25_tunable(query_word_cnt_dict,\n",
        "                                  candidate_word_cnt_dict,\n",
        "                                  corpus_df_dict,\n",
        "                                  candidate_length,\n",
        "                                  avgdl,\n",
        "                                  k1=3,\n",
        "                                  b=0.75):\n",
        "    score = 0\n",
        "    for word, query_tf in query_word_cnt_dict.items():\n",
        "        candidate_tf = candidate_word_cnt_dict.get(word, 0)\n",
        "        df = corpus_df_dict.get(word, 0)\n",
        "        if df == 0:\n",
        "            continue\n",
        "        idf = math.log((10 ** 6 - df + 0.5) / (df + 0.5) + 1)\n",
        "        numerator = candidate_tf * (k1 + 1)\n",
        "        denominator = candidate_tf + k1 * (1 - b + b * (candidate_length / avgdl))\n",
        "        score += idf * (numerator / denominator)\n",
        "    return score\n",
        "\n",
        "\n",
        "def run_retrieval_algorithm_tunable(lang, component, k1, b, qid1s=None):\n",
        "    corpus_tf_dict = load_pickle_file(f\"pkl/{lang}/corpus_tf_dict.pkl\")\n",
        "    corpus_dl_dict = load_pickle_file(f\"pkl/{lang}/corpus_dl_dict.pkl\")\n",
        "    corpus_df_dict = load_pickle_file(f\"pkl/{lang}/corpus_df_dict.pkl\")\n",
        "\n",
        "    corpus_dataframe = load_corpus(lang=lang, verbose=False)\n",
        "    available_ids = corpus_dataframe.qid.unique()\n",
        "    avgdl = corpus_dataframe[component].apply(lambda x: len(split_text(x))).sum() / len(corpus_dataframe)\n",
        "\n",
        "    qid1s = qid1s if qid1s is not None else load_qids(lang=lang)\n",
        "    qid1_dataframe = load_qid_dataframe(lang=lang)\n",
        "\n",
        "    result_folder = pathlib.Path(\"result/\")\n",
        "    if not result_folder.exists():\n",
        "        result_folder.mkdir()\n",
        "\n",
        "    result_filename = pathlib.Path(f\"result/{lang}_bm25_k1{k1}_b{b}_{component}.txt\")\n",
        "\n",
        "    if result_filename.exists():\n",
        "        os.remove(result_filename)\n",
        "\n",
        "    with open(result_filename, \"a\") as fp:\n",
        "        fp.write(\"qid1\\tqid2\\tscore\\tlabel\\n\")\n",
        "\n",
        "    for qid1 in tqdm(qid1s, disable=True):\n",
        "        if qid1 not in available_ids:\n",
        "            continue\n",
        "\n",
        "        cond1 = qid1_dataframe.qid1 == qid1\n",
        "        cond2 = qid1_dataframe.label == 1\n",
        "\n",
        "        qid2s = qid1_dataframe[cond1].qid2.tolist()\n",
        "        qid2s_linked = qid1_dataframe[cond1 & cond2].qid2.tolist()\n",
        "\n",
        "        qid1_tf_dict = corpus_tf_dict[qid1][\"title\"]\n",
        "        query_result = dict()\n",
        "\n",
        "        max_bm25 = -1\n",
        "        for qid2 in qid2s:\n",
        "            if qid2 not in available_ids:\n",
        "                continue\n",
        "\n",
        "            qid2_tf_dict = corpus_tf_dict[qid2][component]\n",
        "            candidate_length = corpus_dl_dict[qid2][component]\n",
        "\n",
        "            score = compute_document_bm25_tunable(qid1_tf_dict,\n",
        "                                                  qid2_tf_dict,\n",
        "                                                  corpus_df_dict,\n",
        "                                                  candidate_length,\n",
        "                                                  avgdl,\n",
        "                                                  k1=k1,\n",
        "                                                  b=b)\n",
        "\n",
        "            max_bm25 = max(score, max_bm25)\n",
        "            query_result[qid2] = score\n",
        "\n",
        "        if max_bm25 != 0:\n",
        "            query_result = {qid: score / max_bm25 for qid, score in query_result.items()}\n",
        "\n",
        "        qid2s_sorted = sorted(query_result, key=query_result.get, reverse=True)\n",
        "\n",
        "        with open(result_filename, \"a\") as fp:\n",
        "            for qid2 in qid2s_sorted:\n",
        "                label = 1 if qid2 in qid2s_linked else 0\n",
        "                score = query_result[qid2]\n",
        "                fp.write(f\"{qid1}\\t{qid2}\\t{score}\\t{label}\\n\")\n",
        "\n",
        "    return result_filename\n",
        "\n",
        "\n",
        "def compute_final_metric_from_file(result_filename, metric):\n",
        "    df = pd.read_csv(result_filename, sep='\\t')\n",
        "    query_scores = []\n",
        "\n",
        "    for qid1 in df['qid1'].unique():\n",
        "        query_df = df[df['qid1'] == qid1]\n",
        "        labels = query_df['label'].values\n",
        "\n",
        "        if metric == \"mrr\":\n",
        "            for idx, label in enumerate(labels):\n",
        "                if label == 1:\n",
        "                    query_scores.append(1.0 / (idx + 1))\n",
        "                    break\n",
        "            else:\n",
        "                query_scores.append(0.0)\n",
        "\n",
        "        elif metric.startswith(\"ndcg@\"):\n",
        "            k = int(metric.split(\"@\")[1])\n",
        "            dcg = 0\n",
        "            idcg = 0\n",
        "\n",
        "            for idx in range(min(k, len(labels))):\n",
        "                if labels[idx] == 1:\n",
        "                    dcg += 1.0 / np.log2(idx + 2)\n",
        "\n",
        "            ideal_labels = sorted(labels[:k], reverse=True)\n",
        "            for idx, label in enumerate(ideal_labels):\n",
        "                if label == 1:\n",
        "                    idcg += 1.0 / np.log2(idx + 2)\n",
        "\n",
        "            if idcg > 0:\n",
        "                query_scores.append(dcg / idcg)\n",
        "            else:\n",
        "                query_scores.append(0.0)\n",
        "\n",
        "    return np.mean(query_scores)\n",
        "\n",
        "# FASTEST: Just 5 key combinations (~5-10 minutes)\n",
        "print(\"Running FAST version with 5 parameter combinations...\")\n",
        "results, params = quick_parameter_comparison(lang=\"python\", component=\"title\")\n"
      ],
      "metadata": {
        "id": "BP5COZylrcMV",
        "outputId": "77baf66f-dbf5-494c-fe3d-336d6d52ad96",
        "colab": {
          "base_uri": "https://localhost:8080/",
          "height": 789
        }
      },
      "execution_count": 28,
      "outputs": [
        {
          "output_type": "stream",
          "name": "stdout",
          "text": [
            "Running FAST version with 5 parameter combinations...\n",
            "Quick Parameter Tuning for python - title\n",
            "Testing 5 parameter combinations\n",
            "\n",
            "Testing 1/5: k1=1.2, b=0.75\n",
            "Testing 2/5: k1=1.5, b=0.75\n",
            "Testing 3/5: k1=2.0, b=0.75\n",
            "Testing 4/5: k1=1.5, b=0.5\n",
            "Testing 5/5: k1=1.5, b=1.0\n"
          ]
        },
        {
          "output_type": "stream",
          "name": "stderr",
          "text": [
            "/tmp/ipython-input-3242359062.py:208: RuntimeWarning: invalid value encountered in scalar divide\n",
            "  score += idf * (numerator / denominator)\n"
          ]
        },
        {
          "output_type": "display_data",
          "data": {
            "text/plain": [
              "<Figure size 1500x500 with 3 Axes>"
            ],
            "image/png": "[encoded data removed]"
          },
          "metadata": {}
        },
        {
          "output_type": "stream",
          "name": "stdout",
          "text": [
            "\n",
            "Best Parameters:\n",
            "MRR       : k1=1.5, b=0.50 (score=0.4436)\n",
            "NDCG@5    : k1=1.5, b=0.50 (score=0.4562)\n",
            "NDCG@10   : k1=1.5, b=0.50 (score=0.5057)\n"
          ]
        }
      ]
    },
    {
      "cell_type": "code",
      "source": [],
      "metadata": {
        "id": "aJrTc8eMAKOl"
      },
      "execution_count": null,
      "outputs": []
    },
    {
      "cell_type": "markdown",
      "metadata": {
        "id": "j9OSbhgeOSAz"
      },
      "source": [
        "### Preparing Submission\n",
        "You need to submit:\n",
        "\n",
        "1. This notebook\n",
        "2. Your report analysis for question 1-5"
      ]
    }
  ],
  "metadata": {
    "colab": {
      "provenance": [],
      "toc_visible": true
    },
    "kernelspec": {
      "display_name": "Python 3 (ipykernel)",
      "language": "python",
      "name": "python3"
    },
    "language_info": {
      "codemirror_mode": {
        "name": "ipython",
        "version": 3
      },
      "file_extension": ".py",
      "mimetype": "text/x-python",
      "name": "python",
      "nbconvert_exporter": "python",
      "pygments_lexer": "ipython3",
      "version": "3.7.0"
    }
  },
  "nbformat": 4,
  "nbformat_minor": 0
}